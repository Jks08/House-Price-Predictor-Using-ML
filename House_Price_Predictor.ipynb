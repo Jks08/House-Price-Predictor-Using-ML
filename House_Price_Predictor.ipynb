{
  "nbformat": 4,
  "nbformat_minor": 0,
  "metadata": {
    "kernelspec": {
      "display_name": "Python 3",
      "language": "python",
      "name": "python3"
    },
    "language_info": {
      "codemirror_mode": {
        "name": "ipython",
        "version": 3
      },
      "file_extension": ".py",
      "mimetype": "text/x-python",
      "name": "python",
      "nbconvert_exporter": "python",
      "pygments_lexer": "ipython3",
      "version": "3.8.5"
    },
    "colab": {
      "name": "House Price Predictor.ipynb",
      "provenance": []
    },
    "widgets": {
      "application/vnd.jupyter.widget-state+json": {
        "5e8d0944415b470ba615c112f7c0827a": {
          "model_module": "@jupyter-widgets/controls",
          "model_name": "HBoxModel",
          "model_module_version": "1.5.0",
          "state": {
            "_view_name": "HBoxView",
            "_dom_classes": [],
            "_model_name": "HBoxModel",
            "_view_module": "@jupyter-widgets/controls",
            "_model_module_version": "1.5.0",
            "_view_count": null,
            "_view_module_version": "1.5.0",
            "box_style": "",
            "layout": "IPY_MODEL_026001999b764ad0b24397aec0f433ca",
            "_model_module": "@jupyter-widgets/controls",
            "children": [
              "IPY_MODEL_84d3115eaf1f4e33af35fa368b315eae",
              "IPY_MODEL_3863b3ccac3d4fa1a5f145ee15776859",
              "IPY_MODEL_83c6ba102e8044038a94bf18900ea732"
            ]
          }
        },
        "026001999b764ad0b24397aec0f433ca": {
          "model_module": "@jupyter-widgets/base",
          "model_name": "LayoutModel",
          "model_module_version": "1.2.0",
          "state": {
            "_view_name": "LayoutView",
            "grid_template_rows": null,
            "right": null,
            "justify_content": null,
            "_view_module": "@jupyter-widgets/base",
            "overflow": null,
            "_model_module_version": "1.2.0",
            "_view_count": null,
            "flex_flow": "row wrap",
            "width": "100%",
            "min_width": null,
            "border": null,
            "align_items": null,
            "bottom": null,
            "_model_module": "@jupyter-widgets/base",
            "top": null,
            "grid_column": null,
            "overflow_y": null,
            "overflow_x": null,
            "grid_auto_flow": null,
            "grid_area": null,
            "grid_template_columns": null,
            "flex": null,
            "_model_name": "LayoutModel",
            "justify_items": null,
            "grid_row": null,
            "max_height": null,
            "align_content": null,
            "visibility": null,
            "align_self": null,
            "height": null,
            "min_height": null,
            "padding": null,
            "grid_auto_rows": null,
            "grid_gap": null,
            "max_width": null,
            "order": null,
            "_view_module_version": "1.2.0",
            "grid_template_areas": null,
            "object_position": null,
            "object_fit": null,
            "grid_auto_columns": null,
            "margin": null,
            "display": "inline-flex",
            "left": null
          }
        },
        "84d3115eaf1f4e33af35fa368b315eae": {
          "model_module": "@jupyter-widgets/controls",
          "model_name": "HTMLModel",
          "model_module_version": "1.5.0",
          "state": {
            "_view_name": "HTMLView",
            "style": "IPY_MODEL_abb6f0b851ab468ea50edefe2885e4c4",
            "_dom_classes": [],
            "description": "",
            "_model_name": "HTMLModel",
            "placeholder": "​",
            "_view_module": "@jupyter-widgets/controls",
            "_model_module_version": "1.5.0",
            "value": "Done! Use &#x27;show&#x27; commands to display/save.   ",
            "_view_count": null,
            "_view_module_version": "1.5.0",
            "description_tooltip": null,
            "_model_module": "@jupyter-widgets/controls",
            "layout": "IPY_MODEL_3776474d15a847b199058820fd918b8c"
          }
        },
        "3863b3ccac3d4fa1a5f145ee15776859": {
          "model_module": "@jupyter-widgets/controls",
          "model_name": "FloatProgressModel",
          "model_module_version": "1.5.0",
          "state": {
            "_view_name": "ProgressView",
            "style": "IPY_MODEL_e3f78c44c632454db74a192d7d4242a8",
            "_dom_classes": [],
            "description": "",
            "_model_name": "FloatProgressModel",
            "bar_style": "success",
            "max": 1,
            "_view_module": "@jupyter-widgets/controls",
            "_model_module_version": "1.5.0",
            "value": 1,
            "_view_count": null,
            "_view_module_version": "1.5.0",
            "orientation": "horizontal",
            "min": 0,
            "description_tooltip": null,
            "_model_module": "@jupyter-widgets/controls",
            "layout": "IPY_MODEL_886677e9c9bc45d9931a8ebc0430d8c8"
          }
        },
        "83c6ba102e8044038a94bf18900ea732": {
          "model_module": "@jupyter-widgets/controls",
          "model_name": "HTMLModel",
          "model_module_version": "1.5.0",
          "state": {
            "_view_name": "HTMLView",
            "style": "IPY_MODEL_9ce185fe997b4cf2a47a73effe9b77e5",
            "_dom_classes": [],
            "description": "",
            "_model_name": "HTMLModel",
            "placeholder": "​",
            "_view_module": "@jupyter-widgets/controls",
            "_model_module_version": "1.5.0",
            "value": " [100%]   00:00 -&gt; (00:00 left)",
            "_view_count": null,
            "_view_module_version": "1.5.0",
            "description_tooltip": null,
            "_model_module": "@jupyter-widgets/controls",
            "layout": "IPY_MODEL_9d980e0f44f347fbacc029097a5fc48d"
          }
        },
        "abb6f0b851ab468ea50edefe2885e4c4": {
          "model_module": "@jupyter-widgets/controls",
          "model_name": "DescriptionStyleModel",
          "model_module_version": "1.5.0",
          "state": {
            "_view_name": "StyleView",
            "_model_name": "DescriptionStyleModel",
            "description_width": "",
            "_view_module": "@jupyter-widgets/base",
            "_model_module_version": "1.5.0",
            "_view_count": null,
            "_view_module_version": "1.2.0",
            "_model_module": "@jupyter-widgets/controls"
          }
        },
        "3776474d15a847b199058820fd918b8c": {
          "model_module": "@jupyter-widgets/base",
          "model_name": "LayoutModel",
          "model_module_version": "1.2.0",
          "state": {
            "_view_name": "LayoutView",
            "grid_template_rows": null,
            "right": null,
            "justify_content": null,
            "_view_module": "@jupyter-widgets/base",
            "overflow": null,
            "_model_module_version": "1.2.0",
            "_view_count": null,
            "flex_flow": null,
            "width": null,
            "min_width": null,
            "border": null,
            "align_items": null,
            "bottom": null,
            "_model_module": "@jupyter-widgets/base",
            "top": null,
            "grid_column": null,
            "overflow_y": null,
            "overflow_x": null,
            "grid_auto_flow": null,
            "grid_area": null,
            "grid_template_columns": null,
            "flex": null,
            "_model_name": "LayoutModel",
            "justify_items": null,
            "grid_row": null,
            "max_height": null,
            "align_content": null,
            "visibility": null,
            "align_self": null,
            "height": null,
            "min_height": null,
            "padding": null,
            "grid_auto_rows": null,
            "grid_gap": null,
            "max_width": null,
            "order": null,
            "_view_module_version": "1.2.0",
            "grid_template_areas": null,
            "object_position": null,
            "object_fit": null,
            "grid_auto_columns": null,
            "margin": null,
            "display": null,
            "left": null
          }
        },
        "e3f78c44c632454db74a192d7d4242a8": {
          "model_module": "@jupyter-widgets/controls",
          "model_name": "ProgressStyleModel",
          "model_module_version": "1.5.0",
          "state": {
            "_view_name": "StyleView",
            "_model_name": "ProgressStyleModel",
            "description_width": "",
            "_view_module": "@jupyter-widgets/base",
            "_model_module_version": "1.5.0",
            "_view_count": null,
            "_view_module_version": "1.2.0",
            "bar_color": null,
            "_model_module": "@jupyter-widgets/controls"
          }
        },
        "886677e9c9bc45d9931a8ebc0430d8c8": {
          "model_module": "@jupyter-widgets/base",
          "model_name": "LayoutModel",
          "model_module_version": "1.2.0",
          "state": {
            "_view_name": "LayoutView",
            "grid_template_rows": null,
            "right": null,
            "justify_content": null,
            "_view_module": "@jupyter-widgets/base",
            "overflow": null,
            "_model_module_version": "1.2.0",
            "_view_count": null,
            "flex_flow": null,
            "width": null,
            "min_width": null,
            "border": null,
            "align_items": null,
            "bottom": null,
            "_model_module": "@jupyter-widgets/base",
            "top": null,
            "grid_column": null,
            "overflow_y": null,
            "overflow_x": null,
            "grid_auto_flow": null,
            "grid_area": null,
            "grid_template_columns": null,
            "flex": "2",
            "_model_name": "LayoutModel",
            "justify_items": null,
            "grid_row": null,
            "max_height": null,
            "align_content": null,
            "visibility": null,
            "align_self": null,
            "height": null,
            "min_height": null,
            "padding": null,
            "grid_auto_rows": null,
            "grid_gap": null,
            "max_width": null,
            "order": null,
            "_view_module_version": "1.2.0",
            "grid_template_areas": null,
            "object_position": null,
            "object_fit": null,
            "grid_auto_columns": null,
            "margin": null,
            "display": null,
            "left": null
          }
        },
        "9ce185fe997b4cf2a47a73effe9b77e5": {
          "model_module": "@jupyter-widgets/controls",
          "model_name": "DescriptionStyleModel",
          "model_module_version": "1.5.0",
          "state": {
            "_view_name": "StyleView",
            "_model_name": "DescriptionStyleModel",
            "description_width": "",
            "_view_module": "@jupyter-widgets/base",
            "_model_module_version": "1.5.0",
            "_view_count": null,
            "_view_module_version": "1.2.0",
            "_model_module": "@jupyter-widgets/controls"
          }
        },
        "9d980e0f44f347fbacc029097a5fc48d": {
          "model_module": "@jupyter-widgets/base",
          "model_name": "LayoutModel",
          "model_module_version": "1.2.0",
          "state": {
            "_view_name": "LayoutView",
            "grid_template_rows": null,
            "right": null,
            "justify_content": null,
            "_view_module": "@jupyter-widgets/base",
            "overflow": null,
            "_model_module_version": "1.2.0",
            "_view_count": null,
            "flex_flow": null,
            "width": null,
            "min_width": null,
            "border": null,
            "align_items": null,
            "bottom": null,
            "_model_module": "@jupyter-widgets/base",
            "top": null,
            "grid_column": null,
            "overflow_y": null,
            "overflow_x": null,
            "grid_auto_flow": null,
            "grid_area": null,
            "grid_template_columns": null,
            "flex": null,
            "_model_name": "LayoutModel",
            "justify_items": null,
            "grid_row": null,
            "max_height": null,
            "align_content": null,
            "visibility": null,
            "align_self": null,
            "height": null,
            "min_height": null,
            "padding": null,
            "grid_auto_rows": null,
            "grid_gap": null,
            "max_width": null,
            "order": null,
            "_view_module_version": "1.2.0",
            "grid_template_areas": null,
            "object_position": null,
            "object_fit": null,
            "grid_auto_columns": null,
            "margin": null,
            "display": null,
            "left": null
          }
        }
      }
    }
  },
  "cells": [
    {
      "cell_type": "code",
      "metadata": {
        "id": "xuPcnqdDQ7No"
      },
      "source": [
        "# Generic Libraries being imported\n",
        "import pandas as pd\n",
        "import matplotlib.pyplot as plt\n",
        "import numpy as np\n",
        "\n",
        "#Data Set Imported\n",
        "from sklearn.datasets import fetch_california_housing"
      ],
      "execution_count": 1,
      "outputs": []
    },
    {
      "cell_type": "code",
      "metadata": {
        "id": "SNhWUWiEQ7Nr"
      },
      "source": [
        "data=fetch_california_housing()"
      ],
      "execution_count": 2,
      "outputs": []
    },
    {
      "cell_type": "code",
      "metadata": {
        "colab": {
          "base_uri": "https://localhost:8080/"
        },
        "id": "UWrn3YzuQ7Ns",
        "outputId": "9c50aac0-ce66-47ba-df4d-45b6183c4d0e"
      },
      "source": [
        "print(data.DESCR)"
      ],
      "execution_count": 3,
      "outputs": [
        {
          "output_type": "stream",
          "name": "stdout",
          "text": [
            ".. _california_housing_dataset:\n",
            "\n",
            "California Housing dataset\n",
            "--------------------------\n",
            "\n",
            "**Data Set Characteristics:**\n",
            "\n",
            "    :Number of Instances: 20640\n",
            "\n",
            "    :Number of Attributes: 8 numeric, predictive attributes and the target\n",
            "\n",
            "    :Attribute Information:\n",
            "        - MedInc        median income in block\n",
            "        - HouseAge      median house age in block\n",
            "        - AveRooms      average number of rooms\n",
            "        - AveBedrms     average number of bedrooms\n",
            "        - Population    block population\n",
            "        - AveOccup      average house occupancy\n",
            "        - Latitude      house block latitude\n",
            "        - Longitude     house block longitude\n",
            "\n",
            "    :Missing Attribute Values: None\n",
            "\n",
            "This dataset was obtained from the StatLib repository.\n",
            "http://lib.stat.cmu.edu/datasets/\n",
            "\n",
            "The target variable is the median house value for California districts.\n",
            "\n",
            "This dataset was derived from the 1990 U.S. census, using one row per census\n",
            "block group. A block group is the smallest geographical unit for which the U.S.\n",
            "Census Bureau publishes sample data (a block group typically has a population\n",
            "of 600 to 3,000 people).\n",
            "\n",
            "It can be downloaded/loaded using the\n",
            ":func:`sklearn.datasets.fetch_california_housing` function.\n",
            "\n",
            ".. topic:: References\n",
            "\n",
            "    - Pace, R. Kelley and Ronald Barry, Sparse Spatial Autoregressions,\n",
            "      Statistics and Probability Letters, 33 (1997) 291-297\n",
            "\n"
          ]
        }
      ]
    },
    {
      "cell_type": "code",
      "metadata": {
        "colab": {
          "base_uri": "https://localhost:8080/",
          "height": 203
        },
        "id": "AHg20HjxQ7Nt",
        "outputId": "40399034-e627-4e7f-abe9-aa2862964f3f"
      },
      "source": [
        "# Independent Data\n",
        "df=pd.DataFrame(data=data.data,columns=data.feature_names)\n",
        "df.head()"
      ],
      "execution_count": 4,
      "outputs": [
        {
          "output_type": "execute_result",
          "data": {
            "text/html": [
              "<div>\n",
              "<style scoped>\n",
              "    .dataframe tbody tr th:only-of-type {\n",
              "        vertical-align: middle;\n",
              "    }\n",
              "\n",
              "    .dataframe tbody tr th {\n",
              "        vertical-align: top;\n",
              "    }\n",
              "\n",
              "    .dataframe thead th {\n",
              "        text-align: right;\n",
              "    }\n",
              "</style>\n",
              "<table border=\"1\" class=\"dataframe\">\n",
              "  <thead>\n",
              "    <tr style=\"text-align: right;\">\n",
              "      <th></th>\n",
              "      <th>MedInc</th>\n",
              "      <th>HouseAge</th>\n",
              "      <th>AveRooms</th>\n",
              "      <th>AveBedrms</th>\n",
              "      <th>Population</th>\n",
              "      <th>AveOccup</th>\n",
              "      <th>Latitude</th>\n",
              "      <th>Longitude</th>\n",
              "    </tr>\n",
              "  </thead>\n",
              "  <tbody>\n",
              "    <tr>\n",
              "      <th>0</th>\n",
              "      <td>8.3252</td>\n",
              "      <td>41.0</td>\n",
              "      <td>6.984127</td>\n",
              "      <td>1.023810</td>\n",
              "      <td>322.0</td>\n",
              "      <td>2.555556</td>\n",
              "      <td>37.88</td>\n",
              "      <td>-122.23</td>\n",
              "    </tr>\n",
              "    <tr>\n",
              "      <th>1</th>\n",
              "      <td>8.3014</td>\n",
              "      <td>21.0</td>\n",
              "      <td>6.238137</td>\n",
              "      <td>0.971880</td>\n",
              "      <td>2401.0</td>\n",
              "      <td>2.109842</td>\n",
              "      <td>37.86</td>\n",
              "      <td>-122.22</td>\n",
              "    </tr>\n",
              "    <tr>\n",
              "      <th>2</th>\n",
              "      <td>7.2574</td>\n",
              "      <td>52.0</td>\n",
              "      <td>8.288136</td>\n",
              "      <td>1.073446</td>\n",
              "      <td>496.0</td>\n",
              "      <td>2.802260</td>\n",
              "      <td>37.85</td>\n",
              "      <td>-122.24</td>\n",
              "    </tr>\n",
              "    <tr>\n",
              "      <th>3</th>\n",
              "      <td>5.6431</td>\n",
              "      <td>52.0</td>\n",
              "      <td>5.817352</td>\n",
              "      <td>1.073059</td>\n",
              "      <td>558.0</td>\n",
              "      <td>2.547945</td>\n",
              "      <td>37.85</td>\n",
              "      <td>-122.25</td>\n",
              "    </tr>\n",
              "    <tr>\n",
              "      <th>4</th>\n",
              "      <td>3.8462</td>\n",
              "      <td>52.0</td>\n",
              "      <td>6.281853</td>\n",
              "      <td>1.081081</td>\n",
              "      <td>565.0</td>\n",
              "      <td>2.181467</td>\n",
              "      <td>37.85</td>\n",
              "      <td>-122.25</td>\n",
              "    </tr>\n",
              "  </tbody>\n",
              "</table>\n",
              "</div>"
            ],
            "text/plain": [
              "   MedInc  HouseAge  AveRooms  ...  AveOccup  Latitude  Longitude\n",
              "0  8.3252      41.0  6.984127  ...  2.555556     37.88    -122.23\n",
              "1  8.3014      21.0  6.238137  ...  2.109842     37.86    -122.22\n",
              "2  7.2574      52.0  8.288136  ...  2.802260     37.85    -122.24\n",
              "3  5.6431      52.0  5.817352  ...  2.547945     37.85    -122.25\n",
              "4  3.8462      52.0  6.281853  ...  2.181467     37.85    -122.25\n",
              "\n",
              "[5 rows x 8 columns]"
            ]
          },
          "metadata": {},
          "execution_count": 4
        }
      ]
    },
    {
      "cell_type": "code",
      "metadata": {
        "colab": {
          "base_uri": "https://localhost:8080/"
        },
        "id": "rOywgWixQ7Nu",
        "outputId": "42969fb7-d3f0-47e9-819f-5e3bb4a33a7b"
      },
      "source": [
        "data.data.shape"
      ],
      "execution_count": 5,
      "outputs": [
        {
          "output_type": "execute_result",
          "data": {
            "text/plain": [
              "(20640, 8)"
            ]
          },
          "metadata": {},
          "execution_count": 5
        }
      ]
    },
    {
      "cell_type": "code",
      "metadata": {
        "colab": {
          "base_uri": "https://localhost:8080/",
          "height": 203
        },
        "id": "BYBPw5aZQ7Nu",
        "outputId": "5973a6e7-26cc-4cb4-9753-ad28928c5b0c"
      },
      "source": [
        "# Dependent Variable\n",
        "df['Target']=data.target\n",
        "df.head()"
      ],
      "execution_count": 6,
      "outputs": [
        {
          "output_type": "execute_result",
          "data": {
            "text/html": [
              "<div>\n",
              "<style scoped>\n",
              "    .dataframe tbody tr th:only-of-type {\n",
              "        vertical-align: middle;\n",
              "    }\n",
              "\n",
              "    .dataframe tbody tr th {\n",
              "        vertical-align: top;\n",
              "    }\n",
              "\n",
              "    .dataframe thead th {\n",
              "        text-align: right;\n",
              "    }\n",
              "</style>\n",
              "<table border=\"1\" class=\"dataframe\">\n",
              "  <thead>\n",
              "    <tr style=\"text-align: right;\">\n",
              "      <th></th>\n",
              "      <th>MedInc</th>\n",
              "      <th>HouseAge</th>\n",
              "      <th>AveRooms</th>\n",
              "      <th>AveBedrms</th>\n",
              "      <th>Population</th>\n",
              "      <th>AveOccup</th>\n",
              "      <th>Latitude</th>\n",
              "      <th>Longitude</th>\n",
              "      <th>Target</th>\n",
              "    </tr>\n",
              "  </thead>\n",
              "  <tbody>\n",
              "    <tr>\n",
              "      <th>0</th>\n",
              "      <td>8.3252</td>\n",
              "      <td>41.0</td>\n",
              "      <td>6.984127</td>\n",
              "      <td>1.023810</td>\n",
              "      <td>322.0</td>\n",
              "      <td>2.555556</td>\n",
              "      <td>37.88</td>\n",
              "      <td>-122.23</td>\n",
              "      <td>4.526</td>\n",
              "    </tr>\n",
              "    <tr>\n",
              "      <th>1</th>\n",
              "      <td>8.3014</td>\n",
              "      <td>21.0</td>\n",
              "      <td>6.238137</td>\n",
              "      <td>0.971880</td>\n",
              "      <td>2401.0</td>\n",
              "      <td>2.109842</td>\n",
              "      <td>37.86</td>\n",
              "      <td>-122.22</td>\n",
              "      <td>3.585</td>\n",
              "    </tr>\n",
              "    <tr>\n",
              "      <th>2</th>\n",
              "      <td>7.2574</td>\n",
              "      <td>52.0</td>\n",
              "      <td>8.288136</td>\n",
              "      <td>1.073446</td>\n",
              "      <td>496.0</td>\n",
              "      <td>2.802260</td>\n",
              "      <td>37.85</td>\n",
              "      <td>-122.24</td>\n",
              "      <td>3.521</td>\n",
              "    </tr>\n",
              "    <tr>\n",
              "      <th>3</th>\n",
              "      <td>5.6431</td>\n",
              "      <td>52.0</td>\n",
              "      <td>5.817352</td>\n",
              "      <td>1.073059</td>\n",
              "      <td>558.0</td>\n",
              "      <td>2.547945</td>\n",
              "      <td>37.85</td>\n",
              "      <td>-122.25</td>\n",
              "      <td>3.413</td>\n",
              "    </tr>\n",
              "    <tr>\n",
              "      <th>4</th>\n",
              "      <td>3.8462</td>\n",
              "      <td>52.0</td>\n",
              "      <td>6.281853</td>\n",
              "      <td>1.081081</td>\n",
              "      <td>565.0</td>\n",
              "      <td>2.181467</td>\n",
              "      <td>37.85</td>\n",
              "      <td>-122.25</td>\n",
              "      <td>3.422</td>\n",
              "    </tr>\n",
              "  </tbody>\n",
              "</table>\n",
              "</div>"
            ],
            "text/plain": [
              "   MedInc  HouseAge  AveRooms  AveBedrms  ...  AveOccup  Latitude  Longitude  Target\n",
              "0  8.3252      41.0  6.984127   1.023810  ...  2.555556     37.88    -122.23   4.526\n",
              "1  8.3014      21.0  6.238137   0.971880  ...  2.109842     37.86    -122.22   3.585\n",
              "2  7.2574      52.0  8.288136   1.073446  ...  2.802260     37.85    -122.24   3.521\n",
              "3  5.6431      52.0  5.817352   1.073059  ...  2.547945     37.85    -122.25   3.413\n",
              "4  3.8462      52.0  6.281853   1.081081  ...  2.181467     37.85    -122.25   3.422\n",
              "\n",
              "[5 rows x 9 columns]"
            ]
          },
          "metadata": {},
          "execution_count": 6
        }
      ]
    },
    {
      "cell_type": "markdown",
      "metadata": {
        "id": "5nuT80W2Q7Nu"
      },
      "source": [
        "# Exploring Data"
      ]
    },
    {
      "cell_type": "code",
      "metadata": {
        "colab": {
          "base_uri": "https://localhost:8080/",
          "height": 86,
          "referenced_widgets": [
            "5e8d0944415b470ba615c112f7c0827a",
            "026001999b764ad0b24397aec0f433ca",
            "84d3115eaf1f4e33af35fa368b315eae",
            "3863b3ccac3d4fa1a5f145ee15776859",
            "83c6ba102e8044038a94bf18900ea732",
            "abb6f0b851ab468ea50edefe2885e4c4",
            "3776474d15a847b199058820fd918b8c",
            "e3f78c44c632454db74a192d7d4242a8",
            "886677e9c9bc45d9931a8ebc0430d8c8",
            "9ce185fe997b4cf2a47a73effe9b77e5",
            "9d980e0f44f347fbacc029097a5fc48d"
          ]
        },
        "id": "U9Kt7oCkQ7Nw",
        "outputId": "130bfde8-d833-4111-b1e5-97fce63f37cc"
      },
      "source": [
        "import sweetviz as sv\n",
        "report=sv.analyze(df)\n",
        "report.show_html(\"./report.html\")"
      ],
      "execution_count": 7,
      "outputs": [
        {
          "output_type": "display_data",
          "data": {
            "application/vnd.jupyter.widget-view+json": {
              "model_id": "5e8d0944415b470ba615c112f7c0827a",
              "version_minor": 0,
              "version_major": 2
            },
            "text/plain": [
              "                                             |          | [  0%]   00:00 -> (? left)"
            ]
          },
          "metadata": {}
        },
        {
          "output_type": "stream",
          "name": "stdout",
          "text": [
            "Report ./report.html was generated! NOTEBOOK/COLAB USERS: the web browser MAY not pop up, regardless, the report IS saved in your notebook/colab files.\n"
          ]
        }
      ]
    },
    {
      "cell_type": "markdown",
      "metadata": {
        "id": "7zBDbW_sQ7Nw"
      },
      "source": [
        "# Data Pre-Processing"
      ]
    },
    {
      "cell_type": "code",
      "metadata": {
        "id": "zqyZWPvWQ7Nx"
      },
      "source": [
        "#Feature Engineering\n",
        "from geopy.geocoders import Nominatim\n",
        "geolocator=Nominatim(user_agent='geoapiExercises')"
      ],
      "execution_count": 8,
      "outputs": []
    },
    {
      "cell_type": "code",
      "metadata": {
        "colab": {
          "base_uri": "https://localhost:8080/"
        },
        "id": "H0gMPPuqQ7Ny",
        "outputId": "7a2d9d72-3510-4877-f4e2-c50e9baf141d"
      },
      "source": [
        "geolocator.reverse(\"37.88\"+\" , \"+\"-122.23\").raw['address']"
      ],
      "execution_count": 9,
      "outputs": [
        {
          "output_type": "execute_result",
          "data": {
            "text/plain": [
              "{'city': 'Berkeley',\n",
              " 'country': 'United States',\n",
              " 'country_code': 'us',\n",
              " 'county': 'Alameda County',\n",
              " 'leisure': 'Ecological Study Area',\n",
              " 'neighbourhood': 'Panoramic Hill',\n",
              " 'postcode': '94720-1076',\n",
              " 'road': 'Panoramic Way',\n",
              " 'state': 'California'}"
            ]
          },
          "metadata": {},
          "execution_count": 9
        }
      ]
    },
    {
      "cell_type": "code",
      "metadata": {
        "id": "gg2bbF4vQ7Ny"
      },
      "source": [
        "def location(cord):\n",
        "    Latitude=str(cord[0])\n",
        "    Longitude=str(cord[1])\n",
        "    \n",
        "    #returns a dictionary\n",
        "    location=geolocator.reverse(Latitude +\" , \"+Longitude).raw['address']\n",
        "    \n",
        "    if location.get('road') is None:\n",
        "        location['road']=None\n",
        "    \n",
        "    if location.get('county') is None:\n",
        "        location['county']=None\n",
        "    loc_update['county'].append(location['county'])\n",
        "    loc_update['road'].append(location['road'])"
      ],
      "execution_count": 10,
      "outputs": []
    },
    {
      "cell_type": "code",
      "metadata": {
        "id": "ipscTRpQQ7Nz"
      },
      "source": [
        "# import pickle\n",
        "# loc_update={\"county\":[],\"road\":[]}\n",
        "\n",
        "# for i, cord in enumerate(df.iloc[:,6:-1].values):\n",
        "#     location(cord)\n",
        "#     pickle.dump(loc_update, open('loc_update.pickle','wb'))\n",
        "#     if i%100==0:\n",
        "#       print(i)"
      ],
      "execution_count": 11,
      "outputs": []
    },
    {
      "cell_type": "code",
      "metadata": {
        "id": "Ha3ZK6LvQ7Nz",
        "colab": {
          "base_uri": "https://localhost:8080/"
        },
        "outputId": "e804381d-736d-4fe4-8c37-1eb4c3792222"
      },
      "source": [
        "import pickle\n",
        "loc_update=pickle.load(open(\"./loc_update.pickle\",\"rb\"))\n",
        "loc=pd.DataFrame(loc_update)\n",
        "loc.info()"
      ],
      "execution_count": 12,
      "outputs": [
        {
          "output_type": "stream",
          "name": "stdout",
          "text": [
            "<class 'pandas.core.frame.DataFrame'>\n",
            "RangeIndex: 20640 entries, 0 to 20639\n",
            "Data columns (total 2 columns):\n",
            " #   Column  Non-Null Count  Dtype \n",
            "---  ------  --------------  ----- \n",
            " 0   county  15262 non-null  object\n",
            " 1   road    19498 non-null  object\n",
            "dtypes: object(2)\n",
            "memory usage: 322.6+ KB\n"
          ]
        }
      ]
    },
    {
      "cell_type": "code",
      "metadata": {
        "id": "bWp-BKA3Gbjl"
      },
      "source": [
        "# Adding new feature to data frame\n",
        "for i in loc_update.keys():\n",
        "    df[i]=loc_update[i]\n",
        "df=df.sample(axis=0, frac=1)\n"
      ],
      "execution_count": 13,
      "outputs": []
    },
    {
      "cell_type": "code",
      "metadata": {
        "colab": {
          "base_uri": "https://localhost:8080/",
          "height": 203
        },
        "id": "0bgBvgSxGdpi",
        "outputId": "6f06f49d-18fd-4276-b9b6-59113365ffd6"
      },
      "source": [
        "#Dropping latitude adn longitude from data frame\n",
        "df.drop(labels=[\"Latitude\", \"Longitude\"],axis=1,inplace=True)\n",
        "df.head()"
      ],
      "execution_count": 15,
      "outputs": [
        {
          "output_type": "execute_result",
          "data": {
            "text/html": [
              "<div>\n",
              "<style scoped>\n",
              "    .dataframe tbody tr th:only-of-type {\n",
              "        vertical-align: middle;\n",
              "    }\n",
              "\n",
              "    .dataframe tbody tr th {\n",
              "        vertical-align: top;\n",
              "    }\n",
              "\n",
              "    .dataframe thead th {\n",
              "        text-align: right;\n",
              "    }\n",
              "</style>\n",
              "<table border=\"1\" class=\"dataframe\">\n",
              "  <thead>\n",
              "    <tr style=\"text-align: right;\">\n",
              "      <th></th>\n",
              "      <th>MedInc</th>\n",
              "      <th>HouseAge</th>\n",
              "      <th>AveRooms</th>\n",
              "      <th>AveBedrms</th>\n",
              "      <th>Population</th>\n",
              "      <th>AveOccup</th>\n",
              "      <th>Target</th>\n",
              "      <th>county</th>\n",
              "      <th>road</th>\n",
              "    </tr>\n",
              "  </thead>\n",
              "  <tbody>\n",
              "    <tr>\n",
              "      <th>6113</th>\n",
              "      <td>1.5000</td>\n",
              "      <td>5.0</td>\n",
              "      <td>3.620579</td>\n",
              "      <td>1.016077</td>\n",
              "      <td>819.0</td>\n",
              "      <td>2.633441</td>\n",
              "      <td>1.398</td>\n",
              "      <td>None</td>\n",
              "      <td>North Cerritos Avenue</td>\n",
              "    </tr>\n",
              "    <tr>\n",
              "      <th>17715</th>\n",
              "      <td>5.6140</td>\n",
              "      <td>15.0</td>\n",
              "      <td>5.854737</td>\n",
              "      <td>1.048421</td>\n",
              "      <td>1389.0</td>\n",
              "      <td>2.924211</td>\n",
              "      <td>2.233</td>\n",
              "      <td>Santa Clara County</td>\n",
              "      <td>Mount Prieta Drive</td>\n",
              "    </tr>\n",
              "    <tr>\n",
              "      <th>3860</th>\n",
              "      <td>4.0474</td>\n",
              "      <td>34.0</td>\n",
              "      <td>5.508403</td>\n",
              "      <td>0.981092</td>\n",
              "      <td>1233.0</td>\n",
              "      <td>2.590336</td>\n",
              "      <td>3.797</td>\n",
              "      <td>None</td>\n",
              "      <td>Morrison Street</td>\n",
              "    </tr>\n",
              "    <tr>\n",
              "      <th>4215</th>\n",
              "      <td>2.9392</td>\n",
              "      <td>46.0</td>\n",
              "      <td>3.877404</td>\n",
              "      <td>0.951923</td>\n",
              "      <td>966.0</td>\n",
              "      <td>2.322115</td>\n",
              "      <td>2.303</td>\n",
              "      <td>None</td>\n",
              "      <td>Edenhurst Avenue</td>\n",
              "    </tr>\n",
              "    <tr>\n",
              "      <th>7885</th>\n",
              "      <td>3.0989</td>\n",
              "      <td>21.0</td>\n",
              "      <td>4.013341</td>\n",
              "      <td>1.075197</td>\n",
              "      <td>4396.0</td>\n",
              "      <td>2.665858</td>\n",
              "      <td>1.714</td>\n",
              "      <td>None</td>\n",
              "      <td>Rose Street</td>\n",
              "    </tr>\n",
              "  </tbody>\n",
              "</table>\n",
              "</div>"
            ],
            "text/plain": [
              "       MedInc  HouseAge  ...              county                   road\n",
              "6113   1.5000       5.0  ...                None  North Cerritos Avenue\n",
              "17715  5.6140      15.0  ...  Santa Clara County     Mount Prieta Drive\n",
              "3860   4.0474      34.0  ...                None        Morrison Street\n",
              "4215   2.9392      46.0  ...                None       Edenhurst Avenue\n",
              "7885   3.0989      21.0  ...                None            Rose Street\n",
              "\n",
              "[5 rows x 9 columns]"
            ]
          },
          "metadata": {},
          "execution_count": 15
        }
      ]
    },
    {
      "cell_type": "code",
      "metadata": {
        "colab": {
          "base_uri": "https://localhost:8080/"
        },
        "id": "cf2cu-qCGf9c",
        "outputId": "87d8c1a6-c873-4955-9225-220cf0041f0b"
      },
      "source": [
        "df.info()"
      ],
      "execution_count": 16,
      "outputs": [
        {
          "output_type": "stream",
          "name": "stdout",
          "text": [
            "<class 'pandas.core.frame.DataFrame'>\n",
            "Int64Index: 20640 entries, 6113 to 17846\n",
            "Data columns (total 9 columns):\n",
            " #   Column      Non-Null Count  Dtype  \n",
            "---  ------      --------------  -----  \n",
            " 0   MedInc      20640 non-null  float64\n",
            " 1   HouseAge    20640 non-null  float64\n",
            " 2   AveRooms    20640 non-null  float64\n",
            " 3   AveBedrms   20640 non-null  float64\n",
            " 4   Population  20640 non-null  float64\n",
            " 5   AveOccup    20640 non-null  float64\n",
            " 6   Target      20640 non-null  float64\n",
            " 7   county      15262 non-null  object \n",
            " 8   road        19498 non-null  object \n",
            "dtypes: float64(7), object(2)\n",
            "memory usage: 1.6+ MB\n"
          ]
        }
      ]
    },
    {
      "cell_type": "markdown",
      "metadata": {
        "id": "y47LurrmG58L"
      },
      "source": [
        "## Using Classification Algorithm to fill the missing data"
      ]
    },
    {
      "cell_type": "code",
      "metadata": {
        "id": "Nt4cEth8GllA"
      },
      "source": [
        "# applying logistic regression to find the missing values\n",
        "missing_idx=[]\n",
        "for i in range(df.shape[0]):\n",
        "    if df['road'][i] is None:\n",
        "        missing_idx.append(i)\n",
        "# Independent Parameters\n",
        "missing_road_x_train=np.array([ [df['MedInc'][i], df['AveRooms'][i], df['AveBedrms'][i]] for i in range(df.shape[0]) if i not in missing_idx])\n",
        "# Dependent Parameters\n",
        "missing_road_y_train=np.array([ df['road'][i] for i in range(df.shape[0]) if i not in missing_idx])\n",
        "    \n",
        "missing_road_x_test=np.array([ [df['MedInc'][i], df['AveRooms'][i], df['AveBedrms'][i]] for i in range(df.shape[0]) if i in missing_idx])"
      ],
      "execution_count": 17,
      "outputs": []
    },
    {
      "cell_type": "code",
      "metadata": {
        "id": "HH9JiaG9GoEM"
      },
      "source": [
        "from sklearn.linear_model import SGDClassifier\n",
        "\n",
        "#Initiating the model\n",
        "model_1=SGDClassifier()\n",
        "\n",
        "#Training Model\n",
        "model_1.fit(missing_road_x_train,missing_road_y_train)\n",
        "\n",
        "missing_road_y_pred=model_1.predict(missing_road_x_test)"
      ],
      "execution_count": 18,
      "outputs": []
    },
    {
      "cell_type": "code",
      "metadata": {
        "colab": {
          "base_uri": "https://localhost:8080/"
        },
        "id": "aA2qe4dNHtXc",
        "outputId": "d00f30e6-146f-40d4-cb50-4bbcd8255910"
      },
      "source": [
        "np.unique(missing_road_y_pred)"
      ],
      "execution_count": 19,
      "outputs": [
        {
          "output_type": "execute_result",
          "data": {
            "text/plain": [
              "array(['20th Street', '30th Avenue', '55th Avenue', 'Alemany Boulevard',\n",
              "       'Alpine Circle', 'Bradford Street', 'Broadway', 'Cedar Avenue',\n",
              "       'East 106th Street', 'East Tulare Avenue', 'North Oakland Avenue',\n",
              "       'Parmelee Avenue', 'Plover Circle', 'Robert Dollar Drive',\n",
              "       'Rosedale Avenue', 'Taylor Road', 'West 135th Street',\n",
              "       'West Tasman Drive'], dtype='<U77')"
            ]
          },
          "metadata": {},
          "execution_count": 19
        }
      ]
    },
    {
      "cell_type": "code",
      "metadata": {
        "colab": {
          "base_uri": "https://localhost:8080/"
        },
        "id": "mkUmUm7ZI7zd",
        "outputId": "16a292e3-c2a9-4bcb-a46a-c20d2403ebbe"
      },
      "source": [
        "# add the modeled data back to the data frame\n",
        "for n,i in enumerate(missing_idx):\n",
        "  df['road'][i]=missing_road_y_pred[n]"
      ],
      "execution_count": 20,
      "outputs": [
        {
          "output_type": "stream",
          "name": "stderr",
          "text": [
            "/usr/local/lib/python3.7/dist-packages/ipykernel_launcher.py:3: SettingWithCopyWarning: \n",
            "A value is trying to be set on a copy of a slice from a DataFrame\n",
            "\n",
            "See the caveats in the documentation: https://pandas.pydata.org/pandas-docs/stable/user_guide/indexing.html#returning-a-view-versus-a-copy\n",
            "  This is separate from the ipykernel package so we can avoid doing imports until\n"
          ]
        }
      ]
    },
    {
      "cell_type": "code",
      "metadata": {
        "colab": {
          "base_uri": "https://localhost:8080/",
          "height": 203
        },
        "id": "wWXgS6Y1JZsw",
        "outputId": "e96e5a01-4042-48e2-a359-c7010bc01859"
      },
      "source": [
        "from sklearn.preprocessing import LabelEncoder\n",
        "\n",
        "le=LabelEncoder()\n",
        "\n",
        "df['road']=le.fit_transform(df['road'])\n",
        "\n",
        "df.head()"
      ],
      "execution_count": 21,
      "outputs": [
        {
          "output_type": "execute_result",
          "data": {
            "text/html": [
              "<div>\n",
              "<style scoped>\n",
              "    .dataframe tbody tr th:only-of-type {\n",
              "        vertical-align: middle;\n",
              "    }\n",
              "\n",
              "    .dataframe tbody tr th {\n",
              "        vertical-align: top;\n",
              "    }\n",
              "\n",
              "    .dataframe thead th {\n",
              "        text-align: right;\n",
              "    }\n",
              "</style>\n",
              "<table border=\"1\" class=\"dataframe\">\n",
              "  <thead>\n",
              "    <tr style=\"text-align: right;\">\n",
              "      <th></th>\n",
              "      <th>MedInc</th>\n",
              "      <th>HouseAge</th>\n",
              "      <th>AveRooms</th>\n",
              "      <th>AveBedrms</th>\n",
              "      <th>Population</th>\n",
              "      <th>AveOccup</th>\n",
              "      <th>Target</th>\n",
              "      <th>county</th>\n",
              "      <th>road</th>\n",
              "    </tr>\n",
              "  </thead>\n",
              "  <tbody>\n",
              "    <tr>\n",
              "      <th>6113</th>\n",
              "      <td>1.5000</td>\n",
              "      <td>5.0</td>\n",
              "      <td>3.620579</td>\n",
              "      <td>1.016077</td>\n",
              "      <td>819.0</td>\n",
              "      <td>2.633441</td>\n",
              "      <td>1.398</td>\n",
              "      <td>None</td>\n",
              "      <td>5379</td>\n",
              "    </tr>\n",
              "    <tr>\n",
              "      <th>17715</th>\n",
              "      <td>5.6140</td>\n",
              "      <td>15.0</td>\n",
              "      <td>5.854737</td>\n",
              "      <td>1.048421</td>\n",
              "      <td>1389.0</td>\n",
              "      <td>2.924211</td>\n",
              "      <td>2.233</td>\n",
              "      <td>Santa Clara County</td>\n",
              "      <td>5151</td>\n",
              "    </tr>\n",
              "    <tr>\n",
              "      <th>3860</th>\n",
              "      <td>4.0474</td>\n",
              "      <td>34.0</td>\n",
              "      <td>5.508403</td>\n",
              "      <td>0.981092</td>\n",
              "      <td>1233.0</td>\n",
              "      <td>2.590336</td>\n",
              "      <td>3.797</td>\n",
              "      <td>None</td>\n",
              "      <td>5122</td>\n",
              "    </tr>\n",
              "    <tr>\n",
              "      <th>4215</th>\n",
              "      <td>2.9392</td>\n",
              "      <td>46.0</td>\n",
              "      <td>3.877404</td>\n",
              "      <td>0.951923</td>\n",
              "      <td>966.0</td>\n",
              "      <td>2.322115</td>\n",
              "      <td>2.303</td>\n",
              "      <td>None</td>\n",
              "      <td>2707</td>\n",
              "    </tr>\n",
              "    <tr>\n",
              "      <th>7885</th>\n",
              "      <td>3.0989</td>\n",
              "      <td>21.0</td>\n",
              "      <td>4.013341</td>\n",
              "      <td>1.075197</td>\n",
              "      <td>4396.0</td>\n",
              "      <td>2.665858</td>\n",
              "      <td>1.714</td>\n",
              "      <td>None</td>\n",
              "      <td>6686</td>\n",
              "    </tr>\n",
              "  </tbody>\n",
              "</table>\n",
              "</div>"
            ],
            "text/plain": [
              "       MedInc  HouseAge  AveRooms  ...  Target              county  road\n",
              "6113   1.5000       5.0  3.620579  ...   1.398                None  5379\n",
              "17715  5.6140      15.0  5.854737  ...   2.233  Santa Clara County  5151\n",
              "3860   4.0474      34.0  5.508403  ...   3.797                None  5122\n",
              "4215   2.9392      46.0  3.877404  ...   2.303                None  2707\n",
              "7885   3.0989      21.0  4.013341  ...   1.714                None  6686\n",
              "\n",
              "[5 rows x 9 columns]"
            ]
          },
          "metadata": {},
          "execution_count": 21
        }
      ]
    },
    {
      "cell_type": "code",
      "metadata": {
        "id": "zD1U-ul1J2gn"
      },
      "source": [
        "# applying logistic regression to find the missing values\n",
        "missing_idx=[]\n",
        "for i in range(df.shape[0]):\n",
        "    if df['county'][i] is None:\n",
        "        missing_idx.append(i)\n",
        "# Independent Parameters\n",
        "missing_county_x_train=np.array([ [df['MedInc'][i], df['AveRooms'][i], df['AveBedrms'][i]] for i in range(df.shape[0]) if i not in missing_idx])\n",
        "# Dependent Parameters\n",
        "missing_county_y_train=np.array([ df['county'][i] for i in range(df.shape[0]) if i not in missing_idx])\n",
        "    \n",
        "missing_county_x_test=np.array([ [df['MedInc'][i], df['AveRooms'][i], df['AveBedrms'][i]] for i in range(df.shape[0]) if i in missing_idx])"
      ],
      "execution_count": 22,
      "outputs": []
    },
    {
      "cell_type": "code",
      "metadata": {
        "colab": {
          "base_uri": "https://localhost:8080/"
        },
        "id": "UKJ69hUYKzTx",
        "outputId": "95857b6c-86ec-4b3f-9730-181310d602d6"
      },
      "source": [
        "missing_county_y_train"
      ],
      "execution_count": 23,
      "outputs": [
        {
          "output_type": "execute_result",
          "data": {
            "text/plain": [
              "array(['Alameda County', 'Alameda County', 'Alameda County', ...,\n",
              "       'Yuba County', 'Yuba County', 'Yuba County'], dtype='<U22')"
            ]
          },
          "metadata": {},
          "execution_count": 23
        }
      ]
    },
    {
      "cell_type": "code",
      "metadata": {
        "id": "dlijz5FSJ2go"
      },
      "source": [
        "#Training Model\n",
        "model_2=SGDClassifier()\n",
        "\n",
        "model_2.fit(missing_county_x_train,missing_county_y_train)\n",
        "\n",
        "missing_county_y_pred=model_2.predict(missing_county_x_test)"
      ],
      "execution_count": 24,
      "outputs": []
    },
    {
      "cell_type": "code",
      "metadata": {
        "colab": {
          "base_uri": "https://localhost:8080/"
        },
        "id": "hon9nkxvJ2go",
        "outputId": "b5c7dc4a-49d6-4fb3-dc31-ebf7e66767ca"
      },
      "source": [
        "np.unique(missing_county_y_pred)"
      ],
      "execution_count": 25,
      "outputs": [
        {
          "output_type": "execute_result",
          "data": {
            "text/plain": [
              "array(['Alameda County', 'Butte County', 'Fresno County',\n",
              "       'Los Angeles County', 'Orange County', 'Placer County',\n",
              "       'Riverside County', 'San Luis Obispo County', 'San Mateo County',\n",
              "       'Sutter County'], dtype='<U22')"
            ]
          },
          "metadata": {},
          "execution_count": 25
        }
      ]
    },
    {
      "cell_type": "code",
      "metadata": {
        "colab": {
          "base_uri": "https://localhost:8080/",
          "height": 287
        },
        "id": "h7lzDm8_J2go",
        "outputId": "8f3d2116-5695-4029-90a0-b261511ff255"
      },
      "source": [
        "# add the modeled data back to the data frame\n",
        "for n,i in enumerate(missing_idx):\n",
        "    df['county'][i]=missing_county_y_pred[n]\n",
        "\n",
        "df['county']=le.fit_transform(df['county'])\n",
        "\n",
        "df.head()"
      ],
      "execution_count": 26,
      "outputs": [
        {
          "output_type": "stream",
          "name": "stderr",
          "text": [
            "/usr/local/lib/python3.7/dist-packages/ipykernel_launcher.py:3: SettingWithCopyWarning: \n",
            "A value is trying to be set on a copy of a slice from a DataFrame\n",
            "\n",
            "See the caveats in the documentation: https://pandas.pydata.org/pandas-docs/stable/user_guide/indexing.html#returning-a-view-versus-a-copy\n",
            "  This is separate from the ipykernel package so we can avoid doing imports until\n"
          ]
        },
        {
          "output_type": "execute_result",
          "data": {
            "text/html": [
              "<div>\n",
              "<style scoped>\n",
              "    .dataframe tbody tr th:only-of-type {\n",
              "        vertical-align: middle;\n",
              "    }\n",
              "\n",
              "    .dataframe tbody tr th {\n",
              "        vertical-align: top;\n",
              "    }\n",
              "\n",
              "    .dataframe thead th {\n",
              "        text-align: right;\n",
              "    }\n",
              "</style>\n",
              "<table border=\"1\" class=\"dataframe\">\n",
              "  <thead>\n",
              "    <tr style=\"text-align: right;\">\n",
              "      <th></th>\n",
              "      <th>MedInc</th>\n",
              "      <th>HouseAge</th>\n",
              "      <th>AveRooms</th>\n",
              "      <th>AveBedrms</th>\n",
              "      <th>Population</th>\n",
              "      <th>AveOccup</th>\n",
              "      <th>Target</th>\n",
              "      <th>county</th>\n",
              "      <th>road</th>\n",
              "    </tr>\n",
              "  </thead>\n",
              "  <tbody>\n",
              "    <tr>\n",
              "      <th>6113</th>\n",
              "      <td>1.5000</td>\n",
              "      <td>5.0</td>\n",
              "      <td>3.620579</td>\n",
              "      <td>1.016077</td>\n",
              "      <td>819.0</td>\n",
              "      <td>2.633441</td>\n",
              "      <td>1.398</td>\n",
              "      <td>10</td>\n",
              "      <td>5379</td>\n",
              "    </tr>\n",
              "    <tr>\n",
              "      <th>17715</th>\n",
              "      <td>5.6140</td>\n",
              "      <td>15.0</td>\n",
              "      <td>5.854737</td>\n",
              "      <td>1.048421</td>\n",
              "      <td>1389.0</td>\n",
              "      <td>2.924211</td>\n",
              "      <td>2.233</td>\n",
              "      <td>45</td>\n",
              "      <td>5151</td>\n",
              "    </tr>\n",
              "    <tr>\n",
              "      <th>3860</th>\n",
              "      <td>4.0474</td>\n",
              "      <td>34.0</td>\n",
              "      <td>5.508403</td>\n",
              "      <td>0.981092</td>\n",
              "      <td>1233.0</td>\n",
              "      <td>2.590336</td>\n",
              "      <td>3.797</td>\n",
              "      <td>0</td>\n",
              "      <td>5122</td>\n",
              "    </tr>\n",
              "    <tr>\n",
              "      <th>4215</th>\n",
              "      <td>2.9392</td>\n",
              "      <td>46.0</td>\n",
              "      <td>3.877404</td>\n",
              "      <td>0.951923</td>\n",
              "      <td>966.0</td>\n",
              "      <td>2.322115</td>\n",
              "      <td>2.303</td>\n",
              "      <td>0</td>\n",
              "      <td>2707</td>\n",
              "    </tr>\n",
              "    <tr>\n",
              "      <th>7885</th>\n",
              "      <td>3.0989</td>\n",
              "      <td>21.0</td>\n",
              "      <td>4.013341</td>\n",
              "      <td>1.075197</td>\n",
              "      <td>4396.0</td>\n",
              "      <td>2.665858</td>\n",
              "      <td>1.714</td>\n",
              "      <td>43</td>\n",
              "      <td>6686</td>\n",
              "    </tr>\n",
              "  </tbody>\n",
              "</table>\n",
              "</div>"
            ],
            "text/plain": [
              "       MedInc  HouseAge  AveRooms  AveBedrms  ...  AveOccup  Target  county  road\n",
              "6113   1.5000       5.0  3.620579   1.016077  ...  2.633441   1.398      10  5379\n",
              "17715  5.6140      15.0  5.854737   1.048421  ...  2.924211   2.233      45  5151\n",
              "3860   4.0474      34.0  5.508403   0.981092  ...  2.590336   3.797       0  5122\n",
              "4215   2.9392      46.0  3.877404   0.951923  ...  2.322115   2.303       0  2707\n",
              "7885   3.0989      21.0  4.013341   1.075197  ...  2.665858   1.714      43  6686\n",
              "\n",
              "[5 rows x 9 columns]"
            ]
          },
          "metadata": {},
          "execution_count": 26
        }
      ]
    },
    {
      "cell_type": "code",
      "metadata": {
        "colab": {
          "base_uri": "https://localhost:8080/"
        },
        "id": "9r88bn8SLuKg",
        "outputId": "cb90c7ef-14f5-4f9d-c407-36ef443fd066"
      },
      "source": [
        "df.info()"
      ],
      "execution_count": 27,
      "outputs": [
        {
          "output_type": "stream",
          "name": "stdout",
          "text": [
            "<class 'pandas.core.frame.DataFrame'>\n",
            "Int64Index: 20640 entries, 6113 to 17846\n",
            "Data columns (total 9 columns):\n",
            " #   Column      Non-Null Count  Dtype  \n",
            "---  ------      --------------  -----  \n",
            " 0   MedInc      20640 non-null  float64\n",
            " 1   HouseAge    20640 non-null  float64\n",
            " 2   AveRooms    20640 non-null  float64\n",
            " 3   AveBedrms   20640 non-null  float64\n",
            " 4   Population  20640 non-null  float64\n",
            " 5   AveOccup    20640 non-null  float64\n",
            " 6   Target      20640 non-null  float64\n",
            " 7   county      20640 non-null  int64  \n",
            " 8   road        20640 non-null  int64  \n",
            "dtypes: float64(7), int64(2)\n",
            "memory usage: 2.2 MB\n"
          ]
        }
      ]
    },
    {
      "cell_type": "markdown",
      "metadata": {
        "id": "ljgPOzOGL0q2"
      },
      "source": [
        "## Understanding which model to use"
      ]
    },
    {
      "cell_type": "code",
      "metadata": {
        "id": "gi3ms-7kLxck"
      },
      "source": [
        "# Dependent Values\n",
        "y=df.iloc[:,6].values\n",
        "df1=df\n",
        "df.drop(labels=['Target'],axis=1,inplace=True)"
      ],
      "execution_count": 28,
      "outputs": []
    },
    {
      "cell_type": "code",
      "metadata": {
        "id": "9XUW6BGlL_CP"
      },
      "source": [
        "#Independent Values\n",
        "x=df.iloc[:,:].values"
      ],
      "execution_count": 29,
      "outputs": []
    },
    {
      "cell_type": "code",
      "metadata": {
        "id": "c4F4s9M-Mh38"
      },
      "source": [
        "from sklearn.model_selection import train_test_split\n",
        "x_train, x_test, y_train, y_test = train_test_split(x, y, test_size=0.20, random_state=42)"
      ],
      "execution_count": 30,
      "outputs": []
    },
    {
      "cell_type": "code",
      "metadata": {
        "colab": {
          "base_uri": "https://localhost:8080/"
        },
        "id": "jyf99EovNH4Q",
        "outputId": "656e47e2-fba1-4954-f4aa-d06fa0994183"
      },
      "source": [
        "from sklearn.ensemble import RandomForestRegressor\n",
        "model = RandomForestRegressor()\n",
        "model.fit(x_train,y_train)"
      ],
      "execution_count": 31,
      "outputs": [
        {
          "output_type": "execute_result",
          "data": {
            "text/plain": [
              "RandomForestRegressor(bootstrap=True, ccp_alpha=0.0, criterion='mse',\n",
              "                      max_depth=None, max_features='auto', max_leaf_nodes=None,\n",
              "                      max_samples=None, min_impurity_decrease=0.0,\n",
              "                      min_impurity_split=None, min_samples_leaf=1,\n",
              "                      min_samples_split=2, min_weight_fraction_leaf=0.0,\n",
              "                      n_estimators=100, n_jobs=None, oob_score=False,\n",
              "                      random_state=None, verbose=0, warm_start=False)"
            ]
          },
          "metadata": {},
          "execution_count": 31
        }
      ]
    },
    {
      "cell_type": "code",
      "metadata": {
        "id": "RMS2V2pjNN6D"
      },
      "source": [
        "# Model Prediction\n",
        "\n",
        "y_pred=model.predict(x_test)"
      ],
      "execution_count": 32,
      "outputs": []
    },
    {
      "cell_type": "code",
      "metadata": {
        "colab": {
          "base_uri": "https://localhost:8080/"
        },
        "id": "y9BIRnH7No1l",
        "outputId": "b610d673-6ba0-4cda-b093-a61ff3397967"
      },
      "source": [
        "#Model Accuracy\n",
        "\n",
        "from sklearn.metrics import r2_score\n",
        "\n",
        "r2_score(y_test, y_pred)*100"
      ],
      "execution_count": 33,
      "outputs": [
        {
          "output_type": "execute_result",
          "data": {
            "text/plain": [
              "72.57677775762006"
            ]
          },
          "metadata": {},
          "execution_count": 33
        }
      ]
    },
    {
      "cell_type": "code",
      "metadata": {
        "id": "I7Wvx-4BN2Fn"
      },
      "source": [
        ""
      ],
      "execution_count": null,
      "outputs": []
    }
  ]
}